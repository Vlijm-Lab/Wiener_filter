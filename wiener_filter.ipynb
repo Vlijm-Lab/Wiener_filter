{
 "cells": [
  {
   "cell_type": "markdown",
   "id": "309575f4",
   "metadata": {},
   "source": [
    "# Wiener Filter"
   ]
  },
  {
   "cell_type": "markdown",
   "id": "55b829b6",
   "metadata": {},
   "source": [
    "<b>Interactive Wiener-filter.</b><br>\n",
    "\n",
    "Code used to apply wiener-filter to images present in a folder within `data`. To use, copy a folder containing `.tif` or `.tiff` images to use in the `data` folder, see `example_data`. A folder will be created in the `data` in which the Wiener filtered data will be stored, such as in `example_data_wiener`.\n",
    "        \n",
    "<b>Script developed by:</b><br>\n",
    "<a href=\"https://www.rug.nl/staff/frank.mol/\">Frank N. Mol</a> & \n",
    "<a href=\"https://www.rug.nl/staff/r.vlijm/\">Rifka Vlijm</a> <br>\n",
    "<a href=\"https://www.rug.nl/research/zernike/molecular-biophysics/\">Molecular Biophysics</a> - \n",
    "<a href=\"https://www.rug.nl/research/zernike/molecular-biophysics/vlijm-group/\">Vlijm Group</a><br>\n",
    "<a href=\"https://www.rug.nl/research/zernike/\">Zernike Institute of Advanced Materials</a><br>\n",
    "<a href=\"https://www.rug.nl/\">University of Groningen</a><br>\n",
    "\n",
    "`wiener_filter.ipynb` is the notebook used for interactive wiener filter<br>\n",
    "`wiener` is the package containing all used functions.<br>\n",
    "`data` is the folder in which all data which needs to be analyzed must be stored. <br>\n",
    "The images need to be of `.tiff` format, either 2D grayscale or 3D z-stack.<br>\n",
    "\n",
    "The Wiener filter deconvolves an image by using the information on the Point-Spread-Funcunction (PSF) of the used Stimulated Emission Depletion (STED) and corresponding Confocal laser. Furthermore, the pixel size, noise-to-signal ratio and the signal influence ratio is needed (what ratio of the intensity is coming from STED and the corresponding confocal beam)."
   ]
  },
  {
   "cell_type": "markdown",
   "id": "1dc4a0a2",
   "metadata": {},
   "source": [
    "### Import"
   ]
  },
  {
   "cell_type": "code",
   "execution_count": null,
   "id": "4bc89047",
   "metadata": {},
   "outputs": [],
   "source": [
    "from wiener import folder_selection, wiener_filter"
   ]
  },
  {
   "cell_type": "markdown",
   "id": "670691f6",
   "metadata": {},
   "source": [
    "### Folder selection"
   ]
  },
  {
   "cell_type": "markdown",
   "id": "597d9297",
   "metadata": {},
   "source": [
    "Select before running the wiener filter."
   ]
  },
  {
   "cell_type": "code",
   "execution_count": null,
   "id": "cd2f4064",
   "metadata": {},
   "outputs": [],
   "source": [
    "folder = folder_selection()"
   ]
  },
  {
   "cell_type": "markdown",
   "id": "6c180956",
   "metadata": {},
   "source": [
    "### Interactive Wiener-Filter"
   ]
  },
  {
   "cell_type": "code",
   "execution_count": null,
   "id": "193ba47e",
   "metadata": {},
   "outputs": [],
   "source": [
    "wiener_filter(folder.value)"
   ]
  }
 ],
 "metadata": {
  "kernelspec": {
   "display_name": "Python 3 (ipykernel)",
   "language": "python",
   "name": "python3"
  },
  "language_info": {
   "codemirror_mode": {
    "name": "ipython",
    "version": 3
   },
   "file_extension": ".py",
   "mimetype": "text/x-python",
   "name": "python",
   "nbconvert_exporter": "python",
   "pygments_lexer": "ipython3",
   "version": "3.11.3"
  }
 },
 "nbformat": 4,
 "nbformat_minor": 5
}
